{
 "cells": [
  {
   "cell_type": "markdown",
   "metadata": {},
   "source": [
    "**Circly Is More Round:** Here our protagonist, Circly, is round and their speed is independent of frame rate. Much better than Blocky. WASD moves Blocky."
   ]
  },
  {
   "cell_type": "code",
   "execution_count": 1,
   "metadata": {},
   "outputs": [
    {
     "name": "stdout",
     "output_type": "stream",
     "text": [
      "pygame 2.5.2 (SDL 2.28.3, Python 3.11.7)\n",
      "Hello from the pygame community. https://www.pygame.org/contribute.html\n"
     ]
    }
   ],
   "source": [
    "# Example file showing a circle moving on screen\n",
    "import pygame\n",
    "\n",
    "# pygame setup\n",
    "pygame.init()\n",
    "\n",
    "# create the screen\n",
    "screen = pygame.display.set_mode((1280, 720))\n",
    "\n",
    "# clock to keep track of FPS\n",
    "clock = pygame.time.Clock()\n",
    "\n",
    "# game loop variable\n",
    "running = True\n",
    "\n",
    "# frame rate\n",
    "dt = 0 # delta time\n",
    "FPS = 60 # FPS\n",
    "\n",
    "# Circly attributes\n",
    "circly_speed = 3000 # movement speed\n",
    "circly_radius = 40 # radius\n",
    "\n",
    "# player position\n",
    "player_pos = pygame.Vector2(screen.get_width() / 2, screen.get_height() / 2)\n",
    "\n",
    "# game loop\n",
    "while running:\n",
    "    # poll for events\n",
    "    # pygame.QUIT event means the user clicked X to close your window\n",
    "    for event in pygame.event.get():\n",
    "        if event.type == pygame.QUIT:\n",
    "            running = False\n",
    "\n",
    "    # fill the screen with a color to wipe away anything from last frame\n",
    "    screen.fill(\"purple\")\n",
    "\n",
    "    # draw Circly\n",
    "    pygame.draw.circle(screen, \"red\", player_pos, circly_radius)\n",
    "\n",
    "    keys = pygame.key.get_pressed()\n",
    "    if keys[pygame.K_w] and player_pos.y > 0:\n",
    "        player_pos.y -= circly_speed * dt\n",
    "    if keys[pygame.K_s] and player_pos.y < screen.get_height() - circly_radius:\n",
    "        player_pos.y += circly_speed * dt\n",
    "    if keys[pygame.K_a] and player_pos.x > 0:\n",
    "        player_pos.x -= circly_speed * dt\n",
    "    if keys[pygame.K_d] and player_pos.x < screen.get_width() - circly_radius:\n",
    "        player_pos.x += circly_speed * dt\n",
    "\n",
    "    # flip() the display to put your work on screen\n",
    "    pygame.display.flip()\n",
    "\n",
    "    # limits FPS\n",
    "    # dt is delta time in seconds since last frame, used for framerate-independent physics.\n",
    "    dt = clock.tick(FPS) / 1000\n",
    "\n",
    "# quit the game\n",
    "pygame.quit()"
   ]
  }
 ],
 "metadata": {
  "kernelspec": {
   "display_name": "Python 3",
   "language": "python",
   "name": "python3"
  },
  "language_info": {
   "codemirror_mode": {
    "name": "ipython",
    "version": 3
   },
   "file_extension": ".py",
   "mimetype": "text/x-python",
   "name": "python",
   "nbconvert_exporter": "python",
   "pygments_lexer": "ipython3",
   "version": "3.11.7"
  }
 },
 "nbformat": 4,
 "nbformat_minor": 2
}
