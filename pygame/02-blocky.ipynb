{
 "cells": [
  {
   "cell_type": "markdown",
   "metadata": {},
   "source": [
    "**Blocky Goes Around:** Here our protagonist, Blocky, is a square and their speed is dependent on frame rate. This is bad. Arrow keys move Blocky."
   ]
  },
  {
   "cell_type": "code",
   "execution_count": 1,
   "metadata": {},
   "outputs": [
    {
     "name": "stdout",
     "output_type": "stream",
     "text": [
      "pygame 2.5.2 (SDL 2.28.3, Python 3.11.8)\n",
      "Hello from the pygame community. https://www.pygame.org/contribute.html\n"
     ]
    }
   ],
   "source": [
    "import pygame\n",
    "\n",
    "# Initialize Pygame\n",
    "pygame.init()\n",
    "\n",
    "# frame rate\n",
    "FPS = 60 # adjust frames per second\n",
    "\n",
    "# Colors\n",
    "black = (0, 0, 0)\n",
    "green = (0, 255, 0)\n",
    "blue = (0, 0, 255)\n",
    "white = (255, 255, 255)\n",
    "\n",
    "# Set up game window\n",
    "width, height = 800, 600\n",
    "screen = pygame.display.set_mode((width, height))\n",
    "\n",
    "# Set up game title\n",
    "pygame.display.set_caption(\"blocky goes around\")\n",
    "\n",
    "# Blocky settings\n",
    "blocky_size = 25\n",
    "blocky_x, blocky_y = width // 2 - blocky_size // 2, height - blocky_size - 20\n",
    "blocky_speed = 20 #adjust the speed\n",
    "\n",
    "# Clock to control the frame rate\n",
    "clock = pygame.time.Clock()\n",
    "\n",
    "# Game loop\n",
    "running = True\n",
    "\n",
    "# Main game loop\n",
    "while running:\n",
    "    # Clear the screen\n",
    "    screen.fill(black)\n",
    "\n",
    "    # Handle events\n",
    "    for event in pygame.event.get():\n",
    "        if event.type == pygame.QUIT:\n",
    "            running = False\n",
    "        elif event.type == pygame.KEYDOWN:\n",
    "            if event.key == pygame.K_ESCAPE:\n",
    "                running = False\n",
    "\n",
    "    # Get keyboard input\n",
    "    keys = pygame.key.get_pressed()\n",
    "\n",
    "    # Move Blocky\n",
    "    if keys[pygame.K_LEFT] and blocky_x > 0:\n",
    "        blocky_x -= blocky_speed\n",
    "    if keys[pygame.K_RIGHT] and blocky_x < width - blocky_size:\n",
    "        blocky_x += blocky_speed\n",
    "    if keys[pygame.K_DOWN] and blocky_y < height - blocky_size:\n",
    "        blocky_y += blocky_speed\n",
    "    if keys[pygame.K_UP] and blocky_y > 0:\n",
    "        blocky_y -= blocky_speed\n",
    "\n",
    "    # Draw Blocky\n",
    "    pygame.draw.rect(screen, white, [blocky_x, blocky_y, blocky_size, blocky_size])\n",
    "\n",
    "    # Update screen\n",
    "    pygame.display.flip()\n",
    "\n",
    "    # Cap the frame rate\n",
    "    clock.tick(FPS)\n",
    "\n",
    "# Quit Pygame\n",
    "pygame.quit()"
   ]
  }
 ],
 "metadata": {
  "kernelspec": {
   "display_name": "Python 3",
   "language": "python",
   "name": "python3"
  },
  "language_info": {
   "codemirror_mode": {
    "name": "ipython",
    "version": 3
   },
   "file_extension": ".py",
   "mimetype": "text/x-python",
   "name": "python",
   "nbconvert_exporter": "python",
   "pygments_lexer": "ipython3",
   "version": "3.11.8"
  }
 },
 "nbformat": 4,
 "nbformat_minor": 2
}
