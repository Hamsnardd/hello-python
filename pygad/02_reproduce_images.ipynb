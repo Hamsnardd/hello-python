{
 "cells": [
  {
   "cell_type": "markdown",
   "metadata": {},
   "source": [
    "**Image Reproduction:** Here we demonstrate a genetic algorithm that attempts to recreate an image. This is a long running algorithm!"
   ]
  },
  {
   "cell_type": "code",
   "execution_count": 2,
   "metadata": {},
   "outputs": [
    {
     "name": "stderr",
     "output_type": "stream",
     "text": [
      "C:\\Users\\b33p\\AppData\\Local\\Temp\\ipykernel_5196\\2156723868.py:9: DeprecationWarning: Starting with ImageIO v3 the behavior of this function will switch to that of iio.v3.imread. To keep the current behavior (and make this warning disappear) use `import imageio.v2 as imageio` or call `imageio.v2.imread` directly.\n",
      "  target_im = imageio.imread('upland.jpg')\n"
     ]
    },
    {
     "ename": "KeyboardInterrupt",
     "evalue": "",
     "output_type": "error",
     "traceback": [
      "\u001b[1;31m---------------------------------------------------------------------------\u001b[0m",
      "\u001b[1;31mKeyboardInterrupt\u001b[0m                         Traceback (most recent call last)",
      "Cell \u001b[1;32mIn[2], line 46\u001b[0m\n\u001b[0;32m     30\u001b[0m     \u001b[38;5;28;01mreturn\u001b[39;00m fitness\n\u001b[0;32m     33\u001b[0m ga_instance \u001b[38;5;241m=\u001b[39m pygad\u001b[38;5;241m.\u001b[39mGA(num_generations\u001b[38;5;241m=\u001b[39m\u001b[38;5;241m20000\u001b[39m,\n\u001b[0;32m     34\u001b[0m                        num_parents_mating\u001b[38;5;241m=\u001b[39m\u001b[38;5;241m10\u001b[39m,\n\u001b[0;32m     35\u001b[0m                        fitness_func\u001b[38;5;241m=\u001b[39mfitness_fun,\n\u001b[1;32m   (...)\u001b[0m\n\u001b[0;32m     43\u001b[0m                        random_mutation_min_val\u001b[38;5;241m=\u001b[39m\u001b[38;5;241m0.0\u001b[39m,\n\u001b[0;32m     44\u001b[0m                        random_mutation_max_val\u001b[38;5;241m=\u001b[39m\u001b[38;5;241m1.0\u001b[39m)\n\u001b[1;32m---> 46\u001b[0m \u001b[43mga_instance\u001b[49m\u001b[38;5;241;43m.\u001b[39;49m\u001b[43mrun\u001b[49m\u001b[43m(\u001b[49m\u001b[43m)\u001b[49m\n\u001b[0;32m     48\u001b[0m \u001b[38;5;66;03m#ga_instance.plot_result()\u001b[39;00m\n\u001b[0;32m     50\u001b[0m solution, solution_fitness, solution_idx \u001b[38;5;241m=\u001b[39m ga_instance\u001b[38;5;241m.\u001b[39mbest_solution()\n",
      "File \u001b[1;32mc:\\Users\\b33p\\AppData\\Local\\Programs\\Python\\Python311\\Lib\\site-packages\\pygad\\pygad.py:1980\u001b[0m, in \u001b[0;36mGA.run\u001b[1;34m(self)\u001b[0m\n\u001b[0;32m   1978\u001b[0m \u001b[38;5;28mself\u001b[39m\u001b[38;5;241m.\u001b[39mprevious_generation_fitness \u001b[38;5;241m=\u001b[39m \u001b[38;5;28mself\u001b[39m\u001b[38;5;241m.\u001b[39mlast_generation_fitness\u001b[38;5;241m.\u001b[39mcopy()\n\u001b[0;32m   1979\u001b[0m \u001b[38;5;66;03m# Measuring the fitness of each chromosome in the population. Save the fitness in the last_generation_fitness attribute.\u001b[39;00m\n\u001b[1;32m-> 1980\u001b[0m \u001b[38;5;28mself\u001b[39m\u001b[38;5;241m.\u001b[39mlast_generation_fitness \u001b[38;5;241m=\u001b[39m \u001b[38;5;28;43mself\u001b[39;49m\u001b[38;5;241;43m.\u001b[39;49m\u001b[43mcal_pop_fitness\u001b[49m\u001b[43m(\u001b[49m\u001b[43m)\u001b[49m\n\u001b[0;32m   1982\u001b[0m best_solution, best_solution_fitness, best_match_idx \u001b[38;5;241m=\u001b[39m \u001b[38;5;28mself\u001b[39m\u001b[38;5;241m.\u001b[39mbest_solution(\n\u001b[0;32m   1983\u001b[0m     pop_fitness\u001b[38;5;241m=\u001b[39m\u001b[38;5;28mself\u001b[39m\u001b[38;5;241m.\u001b[39mlast_generation_fitness)\n\u001b[0;32m   1985\u001b[0m \u001b[38;5;66;03m# Appending the best solution in the current generation to the best_solutions list.\u001b[39;00m\n",
      "File \u001b[1;32mc:\\Users\\b33p\\AppData\\Local\\Programs\\Python\\Python311\\Lib\\site-packages\\pygad\\pygad.py:1660\u001b[0m, in \u001b[0;36mGA.cal_pop_fitness\u001b[1;34m(self)\u001b[0m\n\u001b[0;32m   1657\u001b[0m \u001b[38;5;66;03m# 'last_generation_parents_as_list' is the list version of 'self.last_generation_parents'\u001b[39;00m\n\u001b[0;32m   1658\u001b[0m \u001b[38;5;66;03m# It is used to return the parent index using the 'in' membership operator of Python lists. This is much faster than using 'numpy.where()'.\u001b[39;00m\n\u001b[0;32m   1659\u001b[0m \u001b[38;5;28;01mif\u001b[39;00m \u001b[38;5;28mself\u001b[39m\u001b[38;5;241m.\u001b[39mlast_generation_parents \u001b[38;5;129;01mis\u001b[39;00m \u001b[38;5;129;01mnot\u001b[39;00m \u001b[38;5;28;01mNone\u001b[39;00m:\n\u001b[1;32m-> 1660\u001b[0m     last_generation_parents_as_list \u001b[38;5;241m=\u001b[39m \u001b[43m[\u001b[49m\n\u001b[0;32m   1661\u001b[0m \u001b[43m        \u001b[49m\u001b[38;5;28;43mlist\u001b[39;49m\u001b[43m(\u001b[49m\u001b[43mgen_parent\u001b[49m\u001b[43m)\u001b[49m\u001b[43m \u001b[49m\u001b[38;5;28;43;01mfor\u001b[39;49;00m\u001b[43m \u001b[49m\u001b[43mgen_parent\u001b[49m\u001b[43m \u001b[49m\u001b[38;5;129;43;01min\u001b[39;49;00m\u001b[43m \u001b[49m\u001b[38;5;28;43mself\u001b[39;49m\u001b[38;5;241;43m.\u001b[39;49m\u001b[43mlast_generation_parents\u001b[49m\u001b[43m]\u001b[49m\n\u001b[0;32m   1663\u001b[0m \u001b[38;5;66;03m# 'last_generation_elitism_as_list' is the list version of 'self.last_generation_elitism'\u001b[39;00m\n\u001b[0;32m   1664\u001b[0m \u001b[38;5;66;03m# It is used to return the elitism index using the 'in' membership operator of Python lists. This is much faster than using 'numpy.where()'.\u001b[39;00m\n\u001b[0;32m   1665\u001b[0m \u001b[38;5;28;01mif\u001b[39;00m \u001b[38;5;28mself\u001b[39m\u001b[38;5;241m.\u001b[39mlast_generation_elitism \u001b[38;5;129;01mis\u001b[39;00m \u001b[38;5;129;01mnot\u001b[39;00m \u001b[38;5;28;01mNone\u001b[39;00m:\n",
      "File \u001b[1;32mc:\\Users\\b33p\\AppData\\Local\\Programs\\Python\\Python311\\Lib\\site-packages\\pygad\\pygad.py:1660\u001b[0m, in \u001b[0;36m<listcomp>\u001b[1;34m(.0)\u001b[0m\n\u001b[0;32m   1657\u001b[0m \u001b[38;5;66;03m# 'last_generation_parents_as_list' is the list version of 'self.last_generation_parents'\u001b[39;00m\n\u001b[0;32m   1658\u001b[0m \u001b[38;5;66;03m# It is used to return the parent index using the 'in' membership operator of Python lists. This is much faster than using 'numpy.where()'.\u001b[39;00m\n\u001b[0;32m   1659\u001b[0m \u001b[38;5;28;01mif\u001b[39;00m \u001b[38;5;28mself\u001b[39m\u001b[38;5;241m.\u001b[39mlast_generation_parents \u001b[38;5;129;01mis\u001b[39;00m \u001b[38;5;129;01mnot\u001b[39;00m \u001b[38;5;28;01mNone\u001b[39;00m:\n\u001b[1;32m-> 1660\u001b[0m     last_generation_parents_as_list \u001b[38;5;241m=\u001b[39m [\n\u001b[0;32m   1661\u001b[0m         \u001b[38;5;28mlist\u001b[39m(gen_parent) \u001b[38;5;28;01mfor\u001b[39;00m gen_parent \u001b[38;5;129;01min\u001b[39;00m \u001b[38;5;28mself\u001b[39m\u001b[38;5;241m.\u001b[39mlast_generation_parents]\n\u001b[0;32m   1663\u001b[0m \u001b[38;5;66;03m# 'last_generation_elitism_as_list' is the list version of 'self.last_generation_elitism'\u001b[39;00m\n\u001b[0;32m   1664\u001b[0m \u001b[38;5;66;03m# It is used to return the elitism index using the 'in' membership operator of Python lists. This is much faster than using 'numpy.where()'.\u001b[39;00m\n\u001b[0;32m   1665\u001b[0m \u001b[38;5;28;01mif\u001b[39;00m \u001b[38;5;28mself\u001b[39m\u001b[38;5;241m.\u001b[39mlast_generation_elitism \u001b[38;5;129;01mis\u001b[39;00m \u001b[38;5;129;01mnot\u001b[39;00m \u001b[38;5;28;01mNone\u001b[39;00m:\n",
      "\u001b[1;31mKeyboardInterrupt\u001b[0m: "
     ]
    }
   ],
   "source": [
    "\n",
    "import pygad\n",
    "import numpy\n",
    "import matplotlib.pyplot\n",
    "import imageio\n",
    "import numpy\n",
    "import functools\n",
    "import operator\n",
    "\n",
    "target_im = imageio.imread('upland.jpg')\n",
    "target_im = numpy.asarray(target_im/255, dtype=float)\n",
    "\n",
    "def img2chromosome(img_arr):\n",
    "\n",
    "    return numpy.reshape(a=img_arr, newshape=(functools.reduce(operator.mul, img_arr.shape)))\n",
    "\n",
    "def chromosome2img(vector, shape):\n",
    "    # Check if the vector can be reshaped according to the specified shape.\n",
    "    if len(vector) != functools.reduce(operator.mul, shape):\n",
    "        raise ValueError(\"A vector of length {vector_length} into an array of shape {shape}.\".format(vector_length=len(vector), shape=shape))\n",
    "\n",
    "    return numpy.reshape(a=vector, newshape=shape)\n",
    "\n",
    "target_chromosome = img2chromosome(target_im)\n",
    "\n",
    "def fitness_fun(gainstance,solution, solution_idx):\n",
    "    fitness = numpy.sum(numpy.abs(target_chromosome-solution))\n",
    "\n",
    "    # Negating the fitness value to make it increasing rather than decreasing.\n",
    "    fitness = numpy.sum(target_chromosome) - fitness\n",
    "    return fitness\n",
    "\n",
    "\n",
    "ga_instance = pygad.GA(num_generations=20000,\n",
    "                       num_parents_mating=10,\n",
    "                       fitness_func=fitness_fun,\n",
    "                       sol_per_pop=20,\n",
    "                       num_genes=target_im.size,\n",
    "                       init_range_low=0.0,\n",
    "                       init_range_high=1.0,\n",
    "                       mutation_percent_genes=0.01,\n",
    "                       mutation_type=\"random\",\n",
    "                       mutation_by_replacement=True,\n",
    "                       random_mutation_min_val=0.0,\n",
    "                       random_mutation_max_val=1.0)\n",
    "\n",
    "ga_instance.run()\n",
    "\n",
    "#ga_instance.plot_result()\n",
    "\n",
    "solution, solution_fitness, solution_idx = ga_instance.best_solution()\n",
    "print(\"Fitness value of the best solution = {solution_fitness}\".format(solution_fitness=solution_fitness))\n",
    "print(\"Index of the best solution : {solution_idx}\".format(solution_idx=solution_idx))\n",
    "\n",
    "result = chromosome2img(solution, target_im.shape)\n",
    "matplotlib.pyplot.imshow(result)\n",
    "matplotlib.pyplot.show()"
   ]
  }
 ],
 "metadata": {
  "kernelspec": {
   "display_name": "Python 3",
   "language": "python",
   "name": "python3"
  },
  "language_info": {
   "codemirror_mode": {
    "name": "ipython",
    "version": 3
   },
   "file_extension": ".py",
   "mimetype": "text/x-python",
   "name": "python",
   "nbconvert_exporter": "python",
   "pygments_lexer": "ipython3",
   "version": "3.11.8"
  }
 },
 "nbformat": 4,
 "nbformat_minor": 2
}
