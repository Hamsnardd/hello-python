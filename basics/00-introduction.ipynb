{
 "cells": [
  {
   "cell_type": "markdown",
   "metadata": {},
   "source": [
    "# Welcome to Python Basics\n",
    "\n",
    "Here we will cover some quick basics to get you off the ground using Python quickly. This is in no way an exhaustive reference, but rather a distilled tour of Python functionality. This section makes some effor to by Pythonic in nature, but in some cases covers syntax more accesible to those coming from a C-like background. "
   ]
  },
  {
   "cell_type": "code",
   "execution_count": null,
   "metadata": {},
   "outputs": [],
   "source": []
  }
 ],
 "metadata": {
  "language_info": {
   "name": "python"
  }
 },
 "nbformat": 4,
 "nbformat_minor": 2
}
