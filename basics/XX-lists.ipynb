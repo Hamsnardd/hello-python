{
 "cells": [
  {
   "cell_type": "markdown",
   "metadata": {},
   "source": [
    "# Lists\n",
    "https://docs.python.org/3/library/stdtypes.html#list"
   ]
  },
  {
   "cell_type": "code",
   "execution_count": 3,
   "metadata": {},
   "outputs": [
    {
     "name": "stdout",
     "output_type": "stream",
     "text": [
      "[1, '2', [8, 9, 'John'], {'name': 'John'}, 3.14, True, None]\n"
     ]
    }
   ],
   "source": [
    "#create a list with non-default values\n",
    "vector = list()\n",
    "\n",
    "vector.append(1)\n",
    "vector.append(\"2\")\n",
    "vector.append([8, 9, \"John\"])\n",
    "vector.append({\"name\": \"John\"})\n",
    "vector.append(3.14)\n",
    "vector.append(True)\n",
    "vector.append(None)\n",
    "\n",
    "print(vector)"
   ]
  },
  {
   "cell_type": "code",
   "execution_count": 4,
   "metadata": {},
   "outputs": [
    {
     "name": "stdout",
     "output_type": "stream",
     "text": [
      "[0, 1, 9, 5, 4, 3, 2, 6, 7, 8]\n"
     ]
    }
   ],
   "source": [
    "# create a 1-d list with default values\n",
    "vector = [0,1,9,5,4,3,2,6,7,8]\n",
    "\n",
    "print(vector)"
   ]
  },
  {
   "cell_type": "code",
   "execution_count": 5,
   "metadata": {},
   "outputs": [
    {
     "name": "stdout",
     "output_type": "stream",
     "text": [
      "[0, 0, 0, 0, 0]\n"
     ]
    }
   ],
   "source": [
    "# create a 1-d list with default values\n",
    "num_elements = 5\n",
    "vector = [0]*num_elements\n",
    "print(vector)"
   ]
  },
  {
   "cell_type": "code",
   "execution_count": 8,
   "metadata": {},
   "outputs": [
    {
     "name": "stdout",
     "output_type": "stream",
     "text": [
      "[0, 1, 2, 3, 4, 5, 6, 7, 8, 9]\n"
     ]
    }
   ],
   "source": [
    "# another way using list comprehensions\n",
    "num_elements = 10\n",
    "vector = [i for i in range(num_elements)]\n",
    "print(vector)"
   ]
  },
  {
   "cell_type": "code",
   "execution_count": 9,
   "metadata": {},
   "outputs": [
    {
     "name": "stdout",
     "output_type": "stream",
     "text": [
      "[[False, False, False, False], [False, False, False, False], [False, False, False, False]]\n"
     ]
    }
   ],
   "source": [
    "# create a 2-d list with default values\n",
    "rows, cols = (3, 4)\n",
    "matrix = [[False]*cols]*rows\n",
    "print(matrix)"
   ]
  },
  {
   "cell_type": "code",
   "execution_count": 11,
   "metadata": {},
   "outputs": [
    {
     "name": "stdout",
     "output_type": "stream",
     "text": [
      "[[0, 1, 2, 3], [0, 1, 2, 3], [0, 1, 2, 3]]\n"
     ]
    }
   ],
   "source": [
    "# Nested list comprehension\n",
    "rows, cols = (3, 4)\n",
    "matrix = [[j for j in range(cols)] for i in range(rows)]\n",
    " \n",
    "print(matrix)"
   ]
  },
  {
   "cell_type": "code",
   "execution_count": 13,
   "metadata": {},
   "outputs": [
    {
     "name": "stdout",
     "output_type": "stream",
     "text": [
      "[[1, 1, 2, 3], [0, 1, 2, 3], [0, 1, 2, 3]] after\n"
     ]
    }
   ],
   "source": [
    "# update only one element\n",
    "matrix[0][0] = 1\n",
    "print(matrix, \"after\")"
   ]
  },
  {
   "cell_type": "code",
   "execution_count": 22,
   "metadata": {},
   "outputs": [
    {
     "name": "stdout",
     "output_type": "stream",
     "text": [
      "0 0\n",
      "0 1\n",
      "1 1\n",
      "2 1\n"
     ]
    }
   ],
   "source": [
    "# linear search 2d list (finds all instances)\n",
    "target = 1\n",
    "for i in range(len(matrix)):\n",
    "    for j in range(len(matrix[i])):\n",
    "        if matrix[i][j] == target:\n",
    "             print(i, j)        \n",
    "        "
   ]
  },
  {
   "cell_type": "code",
   "execution_count": 23,
   "metadata": {},
   "outputs": [
    {
     "name": "stdout",
     "output_type": "stream",
     "text": [
      "2\n"
     ]
    }
   ],
   "source": [
    "# binary search list\n",
    "list = [1, 2, 3, 4, 5, 6, 7, 8, 9, 10]\n",
    "target = 3\n",
    "low = 0\n",
    "high = len(list) - 1\n",
    "while low <= high:\n",
    "    mid = (low + high) // 2\n",
    "    if list[mid] == target:\n",
    "        print(mid)\n",
    "        break\n",
    "    elif list[mid] < target:\n",
    "        low = mid + 1\n",
    "    else:\n",
    "        high = mid - 1"
   ]
  }
 ],
 "metadata": {
  "kernelspec": {
   "display_name": "Python 3",
   "language": "python",
   "name": "python3"
  },
  "language_info": {
   "codemirror_mode": {
    "name": "ipython",
    "version": 3
   },
   "file_extension": ".py",
   "mimetype": "text/x-python",
   "name": "python",
   "nbconvert_exporter": "python",
   "pygments_lexer": "ipython3",
   "version": "3.11.7"
  }
 },
 "nbformat": 4,
 "nbformat_minor": 2
}
