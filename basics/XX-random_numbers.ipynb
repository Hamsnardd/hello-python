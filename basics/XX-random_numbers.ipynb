{
 "cells": [
  {
   "cell_type": "markdown",
   "metadata": {},
   "source": [
    "**Random Numbers** # https://docs.python.org/3/library/random.html\n",
    "\n",
    "The `random` library in Python is a built-in module that provides various functions for generating random numbers and performing random sampling. It is a powerful tool for generating randomness in Python programs.\n",
    "\n",
    "Here are some of the most commonly used functions in the `random` library:\n",
    "\n",
    "* `random()` - returns a random float number between 0.0 to 1.0.\n",
    "* `uniform(a, b)` - returns a random float number between `a` and `b`.\n",
    "* `randint(a, b)` - returns a random integer between `a` and `b` (inclusive).\n",
    "* `choice(seq)` - returns a random element from the non-empty sequence `seq`.\n",
    "* `shuffle(x)` - shuffles the sequence `x` in-place.\n",
    "* `sample(population, k)` - returns a list of `k` unique elements chosen from the population sequence.\n",
    "\n",
    "The `random` library is widely used in various applications, such as simulations, games, cryptography, and statistical analysis. It is an essential tool for generating randomness in Python programs."
   ]
  },
  {
   "cell_type": "code",
   "execution_count": 6,
   "metadata": {},
   "outputs": [
    {
     "name": "stdout",
     "output_type": "stream",
     "text": [
      "1\n",
      "9\n"
     ]
    }
   ],
   "source": [
    "import random\n",
    "\n",
    "print(random.randint(0, 1))\n",
    "print(random.randint(0, 10))\n",
    "\n",
    "print(random.)"
   ]
  }
 ],
 "metadata": {
  "kernelspec": {
   "display_name": "Python 3",
   "language": "python",
   "name": "python3"
  },
  "language_info": {
   "codemirror_mode": {
    "name": "ipython",
    "version": 3
   },
   "file_extension": ".py",
   "mimetype": "text/x-python",
   "name": "python",
   "nbconvert_exporter": "python",
   "pygments_lexer": "ipython3",
   "version": "3.11.7"
  }
 },
 "nbformat": 4,
 "nbformat_minor": 2
}
