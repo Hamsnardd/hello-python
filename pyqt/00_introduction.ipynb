{
 "cells": [
  {
   "cell_type": "markdown",
   "metadata": {},
   "source": [
    "# PyQT\n",
    "PyQt5 is a set of Python bindings for the Qt application framework that allows developers to create cross-platform desktop applications with a native look and feel. It is a popular choice for creating GUI applications in Python due to its ease of use, flexibility, and performance.\n",
    "\n",
    "PyQt5 provides a comprehensive set of tools for creating graphical user interfaces, including support for creating windows, buttons, menus, dialogs, and other GUI components. It also includes support for integrating with other technologies, such as OpenGL, SQL databases, and multimedia frameworks.\n",
    "\n",
    "PyQt5 is built on top of the Qt application framework, which is a powerful and feature-rich framework for creating cross-platform applications. PyQt5 provides a Pythonic interface to the Qt framework, making it easy for Python developers to create sophisticated GUI applications.\n",
    "\n",
    "Examples in this section have been tested with Python 3.11.7 and PyQt5\n",
    "\n",
    "# TODO \n",
    "This should be updated to PyQt6 at some point but currently this code will cause issues in PyQt6."
   ]
  },
  {
   "cell_type": "code",
   "execution_count": 1,
   "metadata": {},
   "outputs": [
    {
     "name": "stdout",
     "output_type": "stream",
     "text": [
      "Requirement already satisfied: PyQt5 in c:\\users\\johnm\\appdata\\local\\programs\\python\\python311\\lib\\site-packages (5.15.10)\n",
      "Requirement already satisfied: PyQt5-sip<13,>=12.13 in c:\\users\\johnm\\appdata\\local\\programs\\python\\python311\\lib\\site-packages (from PyQt5) (12.13.0)\n",
      "Requirement already satisfied: PyQt5-Qt5>=5.15.2 in c:\\users\\johnm\\appdata\\local\\programs\\python\\python311\\lib\\site-packages (from PyQt5) (5.15.2)\n",
      "Note: you may need to restart the kernel to use updated packages.\n"
     ]
    }
   ],
   "source": [
    "# install PyQt5\n",
    "%pip install PyQt5"
   ]
  }
 ],
 "metadata": {
  "kernelspec": {
   "display_name": "Python 3",
   "language": "python",
   "name": "python3"
  },
  "language_info": {
   "codemirror_mode": {
    "name": "ipython",
    "version": 3
   },
   "file_extension": ".py",
   "mimetype": "text/x-python",
   "name": "python",
   "nbconvert_exporter": "python",
   "pygments_lexer": "ipython3",
   "version": "3.11.7"
  }
 },
 "nbformat": 4,
 "nbformat_minor": 2
}
